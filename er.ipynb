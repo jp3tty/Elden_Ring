{
 "cells": [
  {
   "cell_type": "code",
   "execution_count": 6,
   "metadata": {},
   "outputs": [],
   "source": [
    "# dependencies\n",
    "import pandas as pd"
   ]
  },
  {
   "cell_type": "code",
   "execution_count": 7,
   "metadata": {},
   "outputs": [],
   "source": [
    "# Source data downloaded from: (https://www.kaggle.com/datasets/robikscube/elden-ring-ultimate-dataset)\n",
    "\n",
    "ammo_df = pd.read_csv('elden-ring-data/ammos.csv')\n",
    "armor_df = pd.read_csv('elden-ring-data/armors.csv')\n",
    "ash_df = pd.read_csv('elden-ring-data/ashes.csv')\n",
    "boss_df = pd.read_csv('elden-ring-data/bosses.csv')\n",
    "class_df = pd.read_csv('elden-ring-data/classes.csv')\n",
    "creature_df = pd.read_csv('elden-ring-data/creatures.csv')\n",
    "incant_df = pd.read_csv('elden-ring-data/incantations.csv')\n",
    "items_df = pd.read_csv('elden-ring-data/items.csv')\n",
    "location_df = pd.read_csv('elden-ring-data/locations.csv')\n",
    "npc_df = pd.read_csv('elden-ring-data/npcs.csv')\n",
    "shields_df = pd.read_csv('elden-ring-data/shields.csv')\n",
    "sorcery_df = pd.read_csv('elden-ring-data/sorceries.csv')\n",
    "spirit_df = pd.read_csv('elden-ring-data/spirits.csv')\n",
    "tali_df = pd.read_csv('elden-ring-data/talismans.csv')\n",
    "weapon_df = pd.read_csv('elden-ring-data/weapons.csv')"
   ]
  },
  {
   "cell_type": "code",
   "execution_count": 11,
   "metadata": {},
   "outputs": [
    {
     "data": {
      "text/plain": [
       "id                     object\n",
       "name                   object\n",
       "image                  object\n",
       "description            object\n",
       "attack                 object\n",
       "defence                object\n",
       "scalesWith             object\n",
       "requiredAttributes     object\n",
       "category               object\n",
       "weight                float64\n",
       "dtype: object"
      ]
     },
     "execution_count": 11,
     "metadata": {},
     "output_type": "execute_result"
    }
   ],
   "source": [
    "weapon_df.dtypes"
   ]
  },
  {
   "cell_type": "code",
   "execution_count": 9,
   "metadata": {},
   "outputs": [
    {
     "data": {
      "text/html": [
       "<div>\n",
       "<style scoped>\n",
       "    .dataframe tbody tr th:only-of-type {\n",
       "        vertical-align: middle;\n",
       "    }\n",
       "\n",
       "    .dataframe tbody tr th {\n",
       "        vertical-align: top;\n",
       "    }\n",
       "\n",
       "    .dataframe thead th {\n",
       "        text-align: right;\n",
       "    }\n",
       "</style>\n",
       "<table border=\"1\" class=\"dataframe\">\n",
       "  <thead>\n",
       "    <tr style=\"text-align: right;\">\n",
       "      <th></th>\n",
       "      <th>id</th>\n",
       "      <th>name</th>\n",
       "      <th>image</th>\n",
       "      <th>description</th>\n",
       "      <th>affinity</th>\n",
       "      <th>skill</th>\n",
       "    </tr>\n",
       "  </thead>\n",
       "  <tbody>\n",
       "    <tr>\n",
       "      <th>0</th>\n",
       "      <td>17f699db6b0l0hzn9xsxxwtgyfky3</td>\n",
       "      <td>Ash Of War: Prelate's Charge</td>\n",
       "      <td>https://eldenring.fanapis.com/images/ashes/17f...</td>\n",
       "      <td>This Ash of War grants an armament the Flame a...</td>\n",
       "      <td>Flame</td>\n",
       "      <td>Prelate's Charge</td>\n",
       "    </tr>\n",
       "    <tr>\n",
       "      <th>1</th>\n",
       "      <td>17f69632311l0hzna19sl4rzmmvk4</td>\n",
       "      <td>Ash Of War: Barrage</td>\n",
       "      <td>https://eldenring.fanapis.com/images/ashes/17f...</td>\n",
       "      <td>This Ash of War grants no affinity to an armam...</td>\n",
       "      <td>Standard</td>\n",
       "      <td>Barrage</td>\n",
       "    </tr>\n",
       "    <tr>\n",
       "      <th>2</th>\n",
       "      <td>17f6983255fl0hzna1ak272zmag8w</td>\n",
       "      <td>Ash Of War: Barbaric Roar</td>\n",
       "      <td>NaN</td>\n",
       "      <td>This Ash of War grants an armament the Heavy a...</td>\n",
       "      <td>Heavy</td>\n",
       "      <td>Barbaric Roar</td>\n",
       "    </tr>\n",
       "  </tbody>\n",
       "</table>\n",
       "</div>"
      ],
      "text/plain": [
       "                              id                          name  \\\n",
       "0  17f699db6b0l0hzn9xsxxwtgyfky3  Ash Of War: Prelate's Charge   \n",
       "1  17f69632311l0hzna19sl4rzmmvk4           Ash Of War: Barrage   \n",
       "2  17f6983255fl0hzna1ak272zmag8w     Ash Of War: Barbaric Roar   \n",
       "\n",
       "                                               image  \\\n",
       "0  https://eldenring.fanapis.com/images/ashes/17f...   \n",
       "1  https://eldenring.fanapis.com/images/ashes/17f...   \n",
       "2                                                NaN   \n",
       "\n",
       "                                         description  affinity  \\\n",
       "0  This Ash of War grants an armament the Flame a...     Flame   \n",
       "1  This Ash of War grants no affinity to an armam...  Standard   \n",
       "2  This Ash of War grants an armament the Heavy a...     Heavy   \n",
       "\n",
       "              skill  \n",
       "0  Prelate's Charge  \n",
       "1           Barrage  \n",
       "2     Barbaric Roar  "
      ]
     },
     "execution_count": 9,
     "metadata": {},
     "output_type": "execute_result"
    }
   ],
   "source": [
    "ash_df.head(3)"
   ]
  },
  {
   "cell_type": "code",
   "execution_count": 10,
   "metadata": {},
   "outputs": [
    {
     "data": {
      "text/html": [
       "<div>\n",
       "<style scoped>\n",
       "    .dataframe tbody tr th:only-of-type {\n",
       "        vertical-align: middle;\n",
       "    }\n",
       "\n",
       "    .dataframe tbody tr th {\n",
       "        vertical-align: top;\n",
       "    }\n",
       "\n",
       "    .dataframe thead th {\n",
       "        text-align: right;\n",
       "    }\n",
       "</style>\n",
       "<table border=\"1\" class=\"dataframe\">\n",
       "  <thead>\n",
       "    <tr style=\"text-align: right;\">\n",
       "      <th></th>\n",
       "      <th>id</th>\n",
       "      <th>name</th>\n",
       "      <th>image</th>\n",
       "      <th>region</th>\n",
       "      <th>description</th>\n",
       "      <th>Liurnia of the Lakes</th>\n",
       "    </tr>\n",
       "  </thead>\n",
       "  <tbody>\n",
       "    <tr>\n",
       "      <th>0</th>\n",
       "      <td>17f69c5a795l0i2m72bjeqbh713r3o</td>\n",
       "      <td>Bridge Of Sacrifice</td>\n",
       "      <td>https://eldenring.fanapis.com/images/locations...</td>\n",
       "      <td>Limgrave</td>\n",
       "      <td>A busy bridge swarming with iron-clad foes. Be...</td>\n",
       "      <td>NaN</td>\n",
       "    </tr>\n",
       "    <tr>\n",
       "      <th>1</th>\n",
       "      <td>17f69869a3bl0i2m72p0sbjub568ch</td>\n",
       "      <td>Church Of Elleh</td>\n",
       "      <td>https://eldenring.fanapis.com/images/locations...</td>\n",
       "      <td>Limgrave</td>\n",
       "      <td>Church of Elleh is a ruined building that hide...</td>\n",
       "      <td>NaN</td>\n",
       "    </tr>\n",
       "    <tr>\n",
       "      <th>2</th>\n",
       "      <td>17f69886115l0i2m7307w4njyfhwt5</td>\n",
       "      <td>Deathtouched Catacombs</td>\n",
       "      <td>https://eldenring.fanapis.com/images/locations...</td>\n",
       "      <td>Limgrave</td>\n",
       "      <td>Catacombs filled with the stench of death, Ske...</td>\n",
       "      <td>NaN</td>\n",
       "    </tr>\n",
       "  </tbody>\n",
       "</table>\n",
       "</div>"
      ],
      "text/plain": [
       "                               id                    name  \\\n",
       "0  17f69c5a795l0i2m72bjeqbh713r3o     Bridge Of Sacrifice   \n",
       "1  17f69869a3bl0i2m72p0sbjub568ch         Church Of Elleh   \n",
       "2  17f69886115l0i2m7307w4njyfhwt5  Deathtouched Catacombs   \n",
       "\n",
       "                                               image    region  \\\n",
       "0  https://eldenring.fanapis.com/images/locations...  Limgrave   \n",
       "1  https://eldenring.fanapis.com/images/locations...  Limgrave   \n",
       "2  https://eldenring.fanapis.com/images/locations...  Limgrave   \n",
       "\n",
       "                                         description Liurnia of the Lakes  \n",
       "0  A busy bridge swarming with iron-clad foes. Be...                  NaN  \n",
       "1  Church of Elleh is a ruined building that hide...                  NaN  \n",
       "2  Catacombs filled with the stench of death, Ske...                  NaN  "
      ]
     },
     "execution_count": 10,
     "metadata": {},
     "output_type": "execute_result"
    }
   ],
   "source": [
    "location_df.head(3)"
   ]
  }
 ],
 "metadata": {
  "kernelspec": {
   "display_name": "Python 3",
   "language": "python",
   "name": "python3"
  },
  "language_info": {
   "codemirror_mode": {
    "name": "ipython",
    "version": 3
   },
   "file_extension": ".py",
   "mimetype": "text/x-python",
   "name": "python",
   "nbconvert_exporter": "python",
   "pygments_lexer": "ipython3",
   "version": "3.9.6"
  }
 },
 "nbformat": 4,
 "nbformat_minor": 2
}
