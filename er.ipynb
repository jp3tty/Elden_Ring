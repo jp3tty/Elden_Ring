{
 "cells": [
  {
   "cell_type": "code",
   "execution_count": 6,
   "metadata": {},
   "outputs": [],
   "source": [
    "# dependencies\n",
    "import pandas as pd"
   ]
  },
  {
   "cell_type": "code",
   "execution_count": 7,
   "metadata": {},
   "outputs": [],
   "source": [
    "# Source data downloaded from: (https://www.kaggle.com/datasets/robikscube/elden-ring-ultimate-dataset)\n",
    "\n",
    "ammo_df = pd.read_csv('elden-ring-data/ammos.csv')\n",
    "armor_df = pd.read_csv('elden-ring-data/armors.csv')\n",
    "ash_df = pd.read_csv('elden-ring-data/ashes.csv')\n",
    "boss_df = pd.read_csv('elden-ring-data/bosses.csv')\n",
    "class_df = pd.read_csv('elden-ring-data/classes.csv')\n",
    "creature_df = pd.read_csv('elden-ring-data/creatures.csv')\n",
    "incant_df = pd.read_csv('elden-ring-data/incantations.csv')\n",
    "items_df = pd.read_csv('elden-ring-data/items.csv')\n",
    "location_df = pd.read_csv('elden-ring-data/locations.csv')\n",
    "npc_df = pd.read_csv('elden-ring-data/npcs.csv')\n",
    "shields_df = pd.read_csv('elden-ring-data/shields.csv')\n",
    "sorcery_df = pd.read_csv('elden-ring-data/sorceries.csv')\n",
    "spirit_df = pd.read_csv('elden-ring-data/spirits.csv')\n",
    "tali_df = pd.read_csv('elden-ring-data/talismans.csv')\n",
    "weapon_df = pd.read_csv('elden-ring-data/weapons.csv')"
   ]
  },
  {
   "cell_type": "code",
   "execution_count": 11,
   "metadata": {},
   "outputs": [
    {
     "data": {
      "text/plain": [
       "id                     object\n",
       "name                   object\n",
       "image                  object\n",
       "description            object\n",
       "attack                 object\n",
       "defence                object\n",
       "scalesWith             object\n",
       "requiredAttributes     object\n",
       "category               object\n",
       "weight                float64\n",
       "dtype: object"
      ]
     },
     "execution_count": 11,
     "metadata": {},
     "output_type": "execute_result"
    }
   ],
   "source": [
    "weapon_df.dtypes"
   ]
  },
  {
   "cell_type": "code",
   "execution_count": 12,
   "metadata": {},
   "outputs": [
    {
     "data": {
      "text/plain": [
       "id             object\n",
       "name           object\n",
       "image          object\n",
       "description    object\n",
       "affinity       object\n",
       "skill          object\n",
       "dtype: object"
      ]
     },
     "execution_count": 12,
     "metadata": {},
     "output_type": "execute_result"
    }
   ],
   "source": [
    "ash_df.dtypes"
   ]
  },
  {
   "cell_type": "code",
   "execution_count": 13,
   "metadata": {},
   "outputs": [
    {
     "data": {
      "text/plain": [
       "id                      object\n",
       "name                    object\n",
       "image                   object\n",
       "region                  object\n",
       "description             object\n",
       "Liurnia of the Lakes    object\n",
       "dtype: object"
      ]
     },
     "execution_count": 13,
     "metadata": {},
     "output_type": "execute_result"
    }
   ],
   "source": [
    "location_df.dtypes"
   ]
  }
 ],
 "metadata": {
  "kernelspec": {
   "display_name": "Python 3",
   "language": "python",
   "name": "python3"
  },
  "language_info": {
   "codemirror_mode": {
    "name": "ipython",
    "version": 3
   },
   "file_extension": ".py",
   "mimetype": "text/x-python",
   "name": "python",
   "nbconvert_exporter": "python",
   "pygments_lexer": "ipython3",
   "version": "3.9.6"
  }
 },
 "nbformat": 4,
 "nbformat_minor": 2
}
